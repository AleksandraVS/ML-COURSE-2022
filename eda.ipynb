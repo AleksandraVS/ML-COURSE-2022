{
 "cells": [
  {
   "cell_type": "code",
   "execution_count": 75,
   "id": "b489cb9e",
   "metadata": {},
   "outputs": [],
   "source": [
    "import pandas as pd\n",
    "import seaborn as sns\n",
    "import matplotlib.pyplot as plt\n",
    "import numpy as np\n",
    "import warnings\n",
    "\n",
    "warnings.filterwarnings('ignore')\n",
    "df = pd.read_csv('train.csv', index_col = \"PassengerId\")"
   ]
  },
  {
   "cell_type": "markdown",
   "id": "d07912a0",
   "metadata": {},
   "source": [
    "# Context"
   ]
  },
  {
   "cell_type": "code",
   "execution_count": null,
   "id": "6b981d68",
   "metadata": {},
   "outputs": [],
   "source": []
  },
  {
   "cell_type": "markdown",
   "id": "9b4320c6",
   "metadata": {},
   "source": [
    "# Data quality assessment"
   ]
  },
  {
   "cell_type": "markdown",
   "id": "35b9679a",
   "metadata": {},
   "source": [
    "#### When quality of the data was assesed, it was found that in five columns not all values were filled:\n",
    "- Age - 3292 NaN values\n",
    "- Ticket - 4623 NaN values\n",
    "- Fare - 134 NaN values\n",
    "- Cabin - 67866 NaN values\n",
    "- Embarked - 250 NaN values"
   ]
  },
  {
   "cell_type": "markdown",
   "id": "8cac9d94",
   "metadata": {},
   "source": [
    "#### The missing numerical characteristics are dropped"
   ]
  },
  {
   "cell_type": "code",
   "execution_count": 76,
   "id": "f8a310c7",
   "metadata": {},
   "outputs": [
    {
     "data": {
      "text/html": [
       "<div>\n",
       "<style scoped>\n",
       "    .dataframe tbody tr th:only-of-type {\n",
       "        vertical-align: middle;\n",
       "    }\n",
       "\n",
       "    .dataframe tbody tr th {\n",
       "        vertical-align: top;\n",
       "    }\n",
       "\n",
       "    .dataframe thead th {\n",
       "        text-align: right;\n",
       "    }\n",
       "</style>\n",
       "<table border=\"1\" class=\"dataframe\">\n",
       "  <thead>\n",
       "    <tr style=\"text-align: right;\">\n",
       "      <th></th>\n",
       "      <th>Survived</th>\n",
       "      <th>Pclass</th>\n",
       "      <th>Name</th>\n",
       "      <th>Sex</th>\n",
       "      <th>Age</th>\n",
       "      <th>SibSp</th>\n",
       "      <th>Parch</th>\n",
       "      <th>Ticket</th>\n",
       "      <th>Fare</th>\n",
       "      <th>Cabin</th>\n",
       "      <th>Embarked</th>\n",
       "    </tr>\n",
       "    <tr>\n",
       "      <th>PassengerId</th>\n",
       "      <th></th>\n",
       "      <th></th>\n",
       "      <th></th>\n",
       "      <th></th>\n",
       "      <th></th>\n",
       "      <th></th>\n",
       "      <th></th>\n",
       "      <th></th>\n",
       "      <th></th>\n",
       "      <th></th>\n",
       "      <th></th>\n",
       "    </tr>\n",
       "  </thead>\n",
       "  <tbody>\n",
       "    <tr>\n",
       "      <th>8</th>\n",
       "      <td>0</td>\n",
       "      <td>1</td>\n",
       "      <td>Wardlaw, Michael</td>\n",
       "      <td>male</td>\n",
       "      <td>27.0</td>\n",
       "      <td>2</td>\n",
       "      <td>1</td>\n",
       "      <td>474849</td>\n",
       "      <td>73.02</td>\n",
       "      <td>A7253</td>\n",
       "      <td>S</td>\n",
       "    </tr>\n",
       "    <tr>\n",
       "      <th>9</th>\n",
       "      <td>0</td>\n",
       "      <td>2</td>\n",
       "      <td>Greigo, Rudy</td>\n",
       "      <td>male</td>\n",
       "      <td>66.0</td>\n",
       "      <td>0</td>\n",
       "      <td>0</td>\n",
       "      <td>6981</td>\n",
       "      <td>9.14</td>\n",
       "      <td>D2969</td>\n",
       "      <td>C</td>\n",
       "    </tr>\n",
       "    <tr>\n",
       "      <th>11</th>\n",
       "      <td>0</td>\n",
       "      <td>1</td>\n",
       "      <td>Telschow, Robert</td>\n",
       "      <td>male</td>\n",
       "      <td>60.0</td>\n",
       "      <td>0</td>\n",
       "      <td>0</td>\n",
       "      <td>19600</td>\n",
       "      <td>31.50</td>\n",
       "      <td>A9055</td>\n",
       "      <td>S</td>\n",
       "    </tr>\n",
       "    <tr>\n",
       "      <th>12</th>\n",
       "      <td>0</td>\n",
       "      <td>3</td>\n",
       "      <td>Stewart, Pat</td>\n",
       "      <td>male</td>\n",
       "      <td>36.0</td>\n",
       "      <td>0</td>\n",
       "      <td>0</td>\n",
       "      <td>434108</td>\n",
       "      <td>9.34</td>\n",
       "      <td>C8674</td>\n",
       "      <td>S</td>\n",
       "    </tr>\n",
       "    <tr>\n",
       "      <th>14</th>\n",
       "      <td>1</td>\n",
       "      <td>1</td>\n",
       "      <td>Seaton, Karen</td>\n",
       "      <td>female</td>\n",
       "      <td>44.0</td>\n",
       "      <td>0</td>\n",
       "      <td>1</td>\n",
       "      <td>12425</td>\n",
       "      <td>28.40</td>\n",
       "      <td>D6945</td>\n",
       "      <td>C</td>\n",
       "    </tr>\n",
       "    <tr>\n",
       "      <th>...</th>\n",
       "      <td>...</td>\n",
       "      <td>...</td>\n",
       "      <td>...</td>\n",
       "      <td>...</td>\n",
       "      <td>...</td>\n",
       "      <td>...</td>\n",
       "      <td>...</td>\n",
       "      <td>...</td>\n",
       "      <td>...</td>\n",
       "      <td>...</td>\n",
       "      <td>...</td>\n",
       "    </tr>\n",
       "    <tr>\n",
       "      <th>99967</th>\n",
       "      <td>0</td>\n",
       "      <td>1</td>\n",
       "      <td>Harrier, Stacey</td>\n",
       "      <td>male</td>\n",
       "      <td>49.0</td>\n",
       "      <td>2</td>\n",
       "      <td>0</td>\n",
       "      <td>402064</td>\n",
       "      <td>225.51</td>\n",
       "      <td>A4590</td>\n",
       "      <td>S</td>\n",
       "    </tr>\n",
       "    <tr>\n",
       "      <th>99989</th>\n",
       "      <td>1</td>\n",
       "      <td>1</td>\n",
       "      <td>Harris, Amy</td>\n",
       "      <td>female</td>\n",
       "      <td>64.0</td>\n",
       "      <td>0</td>\n",
       "      <td>1</td>\n",
       "      <td>27728</td>\n",
       "      <td>31.66</td>\n",
       "      <td>D12975</td>\n",
       "      <td>C</td>\n",
       "    </tr>\n",
       "    <tr>\n",
       "      <th>99991</th>\n",
       "      <td>0</td>\n",
       "      <td>1</td>\n",
       "      <td>Hogan, Todd</td>\n",
       "      <td>male</td>\n",
       "      <td>53.0</td>\n",
       "      <td>0</td>\n",
       "      <td>5</td>\n",
       "      <td>CA 48075</td>\n",
       "      <td>30.09</td>\n",
       "      <td>B19289</td>\n",
       "      <td>Q</td>\n",
       "    </tr>\n",
       "    <tr>\n",
       "      <th>99992</th>\n",
       "      <td>1</td>\n",
       "      <td>2</td>\n",
       "      <td>Cordero, Rita</td>\n",
       "      <td>female</td>\n",
       "      <td>58.0</td>\n",
       "      <td>0</td>\n",
       "      <td>0</td>\n",
       "      <td>4451636</td>\n",
       "      <td>30.53</td>\n",
       "      <td>F12072</td>\n",
       "      <td>C</td>\n",
       "    </tr>\n",
       "    <tr>\n",
       "      <th>99995</th>\n",
       "      <td>1</td>\n",
       "      <td>2</td>\n",
       "      <td>Bell, Adele</td>\n",
       "      <td>female</td>\n",
       "      <td>62.0</td>\n",
       "      <td>0</td>\n",
       "      <td>0</td>\n",
       "      <td>PC 15008</td>\n",
       "      <td>14.86</td>\n",
       "      <td>D17243</td>\n",
       "      <td>C</td>\n",
       "    </tr>\n",
       "  </tbody>\n",
       "</table>\n",
       "<p>30881 rows × 11 columns</p>\n",
       "</div>"
      ],
      "text/plain": [
       "             Survived  Pclass              Name     Sex   Age  SibSp  Parch  \\\n",
       "PassengerId                                                                   \n",
       "8                   0       1  Wardlaw, Michael    male  27.0      2      1   \n",
       "9                   0       2      Greigo, Rudy    male  66.0      0      0   \n",
       "11                  0       1  Telschow, Robert    male  60.0      0      0   \n",
       "12                  0       3      Stewart, Pat    male  36.0      0      0   \n",
       "14                  1       1     Seaton, Karen  female  44.0      0      1   \n",
       "...               ...     ...               ...     ...   ...    ...    ...   \n",
       "99967               0       1   Harrier, Stacey    male  49.0      2      0   \n",
       "99989               1       1       Harris, Amy  female  64.0      0      1   \n",
       "99991               0       1       Hogan, Todd    male  53.0      0      5   \n",
       "99992               1       2     Cordero, Rita  female  58.0      0      0   \n",
       "99995               1       2       Bell, Adele  female  62.0      0      0   \n",
       "\n",
       "               Ticket    Fare   Cabin Embarked  \n",
       "PassengerId                                     \n",
       "8              474849   73.02   A7253        S  \n",
       "9                6981    9.14   D2969        C  \n",
       "11              19600   31.50   A9055        S  \n",
       "12             434108    9.34   C8674        S  \n",
       "14              12425   28.40   D6945        C  \n",
       "...               ...     ...     ...      ...  \n",
       "99967          402064  225.51   A4590        S  \n",
       "99989           27728   31.66  D12975        C  \n",
       "99991        CA 48075   30.09  B19289        Q  \n",
       "99992         4451636   30.53  F12072        C  \n",
       "99995        PC 15008   14.86  D17243        C  \n",
       "\n",
       "[30881 rows x 11 columns]"
      ]
     },
     "execution_count": 76,
     "metadata": {},
     "output_type": "execute_result"
    }
   ],
   "source": [
    "#values = {\"Age\": df[\"Age\"].mean(), \"Fare\": df[\"Fare\"].mean()}\n",
    "#df.fillna(value = values, inplace = True)\n",
    "df = df.dropna() # стоит ли так делать?"
   ]
  },
  {
   "cell_type": "markdown",
   "id": "513de299",
   "metadata": {},
   "source": [
    "#### For convenience, we will cast age to type int"
   ]
  },
  {
   "cell_type": "code",
   "execution_count": 126,
   "id": "a1f4ea0b",
   "metadata": {},
   "outputs": [],
   "source": [
    "df[\"Age\"] = df.Age.astype(int)"
   ]
  },
  {
   "cell_type": "markdown",
   "id": "5408eca5",
   "metadata": {},
   "source": [
    "# Data exploration"
   ]
  },
  {
   "cell_type": "markdown",
   "id": "ac5f78b8",
   "metadata": {},
   "source": [
    "####   Age statistics"
   ]
  },
  {
   "cell_type": "code",
   "execution_count": 209,
   "id": "58e1bc98",
   "metadata": {
    "scrolled": true
   },
   "outputs": [
    {
     "name": "stdout",
     "output_type": "stream",
     "text": [
      "Average of age separated by Sex: \n",
      "Sex\n",
      "female    46.605823\n",
      "male      41.949524\n",
      "Name: Age, dtype: float64\n",
      "\n",
      "Average of age separated by Pclass: \n",
      "Pclass\n",
      "1    45.142588\n",
      "2    43.422644\n",
      "3    39.425532\n",
      "Name: Age, dtype: float64\n",
      "\n",
      "Average of age separated by Pclass and Sex: \n",
      "Pclass  Sex   \n",
      "1       female    47.221015\n",
      "        male      42.459596\n",
      "2       female    44.509251\n",
      "        male      41.188406\n",
      "3       female    41.623472\n",
      "        male      37.931006\n",
      "Name: Age, dtype: float64\n"
     ]
    }
   ],
   "source": [
    "print(\"Average of age separated by Sex: \")\n",
    "print(df.groupby('Sex')[\"Age\"].mean())\n",
    "print(\"\\nAverage of age separated by Pclass: \")\n",
    "print(df.groupby('Pclass')[\"Age\"].mean())\n",
    "print(\"\\nAverage of age separated by Pclass and Sex: \")\n",
    "print(df.groupby(['Pclass', 'Sex'])[\"Age\"].mean())"
   ]
  },
  {
   "cell_type": "code",
   "execution_count": 207,
   "id": "2417286d",
   "metadata": {},
   "outputs": [
    {
     "data": {
      "text/plain": [
       "Text(0.5, 1.0, 'Passenger age distribution')"
      ]
     },
     "execution_count": 207,
     "metadata": {},
     "output_type": "execute_result"
    },
    {
     "data": {
      "image/png": "[encoded data removed]",
      "text/plain": [
       "<Figure size 432x288 with 1 Axes>"
      ]
     },
     "metadata": {
      "needs_background": "light"
     },
     "output_type": "display_data"
    }
   ],
   "source": [
    "sns.distplot(df.Age)\n",
    "plt.title(\"Passenger age distribution\")"
   ]
  },
  {
   "cell_type": "code",
   "execution_count": 208,
   "id": "5edd70cb",
   "metadata": {},
   "outputs": [
    {
     "data": {
      "text/plain": [
       "<matplotlib.legend.Legend at 0x16dacc71f70>"
      ]
     },
     "execution_count": 208,
     "metadata": {},
     "output_type": "execute_result"
    },
    {
     "data": {
      "image/png": "[encoded data removed]",
      "text/plain": [
       "<Figure size 432x288 with 1 Axes>"
      ]
     },
     "metadata": {
      "needs_background": "light"
     },
     "output_type": "display_data"
    }
   ],
   "source": [
    "plt.title(\"Passenger age distribution for Pclass\")\n",
    "sns.kdeplot(df[df.Pclass == 1].Age, label = \"pclass 1\")\n",
    "sns.kdeplot(df[df.Pclass == 2].Age, label = \"pclass 2\")\n",
    "sns.kdeplot(df[df.Pclass == 3].Age, label = \"pclass 3\")\n",
    "plt.legend()"
   ]
  },
  {
   "cell_type": "code",
   "execution_count": 210,
   "id": "266b1156",
   "metadata": {},
   "outputs": [
    {
     "data": {
      "text/plain": [
       "Text(0.5, 1.0, 'Survival rate for Age:')"
      ]
     },
     "execution_count": 210,
     "metadata": {},
     "output_type": "execute_result"
    },
    {
     "data": {
      "image/png": "[encoded data removed]",
      "text/plain": [
       "<Figure size 1728x576 with 1 Axes>"
      ]
     },
     "metadata": {
      "needs_background": "light"
     },
     "output_type": "display_data"
    }
   ],
   "source": [
    "num_of_survived = df[df.Survived == 1].Age.value_counts().to_list()\n",
    "plt.figure(figsize = (24, 8))\n",
    "sns.barplot(x = df.Age.unique(), y = num_of_survived)\n",
    "plt.title(\"Survival rate for Age:\")"
   ]
  },
  {
   "cell_type": "markdown",
   "id": "f1ac02aa",
   "metadata": {},
   "source": [
    "#### Gender statistics"
   ]
  },
  {
   "cell_type": "code",
   "execution_count": 215,
   "id": "13d36f63",
   "metadata": {},
   "outputs": [
    {
     "name": "stdout",
     "output_type": "stream",
     "text": [
      "Number of men and women: \n",
      "female    17449\n",
      "male      13432\n",
      "Name: Sex, dtype: int64\n"
     ]
    }
   ],
   "source": [
    "print(\"Number of men and women: \")\n",
    "print(df.Sex.value_counts())\n"
   ]
  },
  {
   "cell_type": "code",
   "execution_count": 128,
   "id": "947d82a6",
   "metadata": {},
   "outputs": [
    {
     "data": {
      "text/plain": [
       "Text(0.5, 1.0, 'Percentage of survivors for gender')"
      ]
     },
     "execution_count": 128,
     "metadata": {},
     "output_type": "execute_result"
    },
    {
     "data": {
      "image/png": "[encoded data removed]",
      "text/plain": [
       "<Figure size 432x288 with 1 Axes>"
      ]
     },
     "metadata": {
      "needs_background": "light"
     },
     "output_type": "display_data"
    }
   ],
   "source": [
    "a = df.Sex.value_counts().to_list()\n",
    "b = df[df.Survived == 1].Sex.value_counts()\n",
    "percent_of_survivors = [j / i for (i, j) in (a, b)][::-1]\n",
    "sns.barplot(x = df.Sex.unique(), y = percent_of_survivors)\n",
    "#plt.title(\"Percentage of survivors for gender\")"
   ]
  },
  {
   "cell_type": "code",
   "execution_count": 211,
   "id": "c6c05495",
   "metadata": {},
   "outputs": [],
   "source": [
    "# есть ли смысл такого графика ?...\n"
   ]
  },
  {
   "cell_type": "code",
   "execution_count": 169,
   "id": "6434ffa4",
   "metadata": {},
   "outputs": [
    {
     "data": {
      "text/plain": [
       "<AxesSubplot:ylabel='Pclass'>"
      ]
     },
     "execution_count": 169,
     "metadata": {},
     "output_type": "execute_result"
    },
    {
     "data": {
      "image/png": "[encoded data removed]",
      "text/plain": [
       "<Figure size 432x288 with 1 Axes>"
      ]
     },
     "metadata": {
      "needs_background": "light"
     },
     "output_type": "display_data"
    }
   ],
   "source": [
    "sns.scatterplot(x = df.Survived.count(), y = df.Pclass)"
   ]
  },
  {
   "cell_type": "markdown",
   "id": "034945c8",
   "metadata": {},
   "source": [
    "# Summary"
   ]
  },
  {
   "cell_type": "code",
   "execution_count": null,
   "id": "72e3fb13",
   "metadata": {},
   "outputs": [],
   "source": []
  }
 ],
 "metadata": {
  "kernelspec": {
   "display_name": "Python 3 (ipykernel)",
   "language": "python",
   "name": "python3"
  },
  "language_info": {
   "codemirror_mode": {
    "name": "ipython",
    "version": 3
   },
   "file_extension": ".py",
   "mimetype": "text/x-python",
   "name": "python",
   "nbconvert_exporter": "python",
   "pygments_lexer": "ipython3",
   "version": "3.9.10"
  },
  "toc": {
   "base_numbering": 1,
   "nav_menu": {},
   "number_sections": true,
   "sideBar": true,
   "skip_h1_title": false,
   "title_cell": "Table of Contents",
   "title_sidebar": "Contents",
   "toc_cell": false,
   "toc_position": {},
   "toc_section_display": true,
   "toc_window_display": false
  }
 },
 "nbformat": 4,
 "nbformat_minor": 5
}
